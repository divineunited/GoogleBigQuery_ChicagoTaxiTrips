{
 "cells": [
  {
   "cell_type": "code",
   "execution_count": 1,
   "metadata": {
    "_cell_guid": "b1076dfc-b9ad-4769-8c92-a6c4dae69d19",
    "_uuid": "8f2839f25d086af736a60e9eeb907d3b93b6e0e5"
   },
   "outputs": [],
   "source": [
    "# This Python 3 environment comes with many helpful analytics libraries installed\n",
    "# It is defined by the kaggle/python docker image: https://github.com/kaggle/docker-python\n",
    "# For example, here's several helpful packages to load in \n",
    "\n",
    "import numpy as np # linear algebra\n",
    "import pandas as pd # data processing, CSV file I/O (e.g. pd.read_csv)\n",
    "\n",
    "# Input data files are available in the \"../input/\" directory.\n",
    "# For example, running this (by clicking run or pressing Shift+Enter) will list the files in the input directory\n",
    "\n",
    "import os\n",
    "\n",
    "# Any results you write to the current directory are saved as output.\n",
    "\n",
    "\n",
    "# plotting libraries:\n",
    "import matplotlib.pyplot as plt\n",
    "import matplotlib as mpl\n",
    "import seaborn as sns\n",
    "%matplotlib inline\n",
    "\n",
    "\n",
    "# Google Big Query library:\n",
    "# https://www.kaggle.com/sohier/introduction-to-the-bq-helper-package\n",
    "import bq_helper\n",
    "from bq_helper import BigQueryHelper"
   ]
  },
  {
   "cell_type": "code",
   "execution_count": 2,
   "metadata": {
    "_uuid": "7576d1acb0cde51cad865725c0e097c5dd548d10"
   },
   "outputs": [],
   "source": [
    "# allowing for any single variable to print out without using the print statement:\n",
    "from IPython.core.interactiveshell import InteractiveShell\n",
    "InteractiveShell.ast_node_interactivity = \"all\"\n",
    "\n",
    "sns.set(color_codes=True) #overide maplot libs ugly colours.\n",
    "mpl.rcParams['figure.figsize'] = [13, 8] #default figure size"
   ]
  },
  {
   "cell_type": "markdown",
   "metadata": {
    "_uuid": "bb3f964b3fcbc89fd2d97182b8704f0c2ddbe07e"
   },
   "source": [
    "# Exploring the Chicago Taxi Trip Data Set\n",
    "\n",
    "### Context\n",
    "Taxicabs in Chicago, Illinois, are operated by private companies and licensed by the city. There are about seven thousand licensed cabs operating within the city limits. Licenses are obtained through the purchase or lease of a taxi medallion which is then affixed to the top right hood of the car. Source: https://en.wikipedia.org/wiki/Taxicabs_of_the_United_States#Chicago\n",
    "\n",
    "### Content\n",
    "This dataset includes taxi trips from 2013 to the present, reported to the City of Chicago in its role as a regulatory agency. To protect privacy but allow for aggregate analyses, the Taxi ID is consistent for any given taxi medallion number but does not show the number, Census Tracts are suppressed in some cases, and times are rounded to the nearest 15 minutes. Due to the data reporting process, not all trips are reported but the City believes that most are. See http://digital.cityofchicago.org/index.php/chicago-taxi-data-released for more information about this dataset and how it was created.\n",
    "\n",
    "\n",
    "### Acknowledgements\n",
    "https://bigquery.cloud.google.com/dataset/bigquery-public-data:chicago_taxi_trips\n",
    "\n",
    "https://cloud.google.com/bigquery/public-data/chicago-taxi\n",
    "\n",
    "Dataset Source: City of Chicago\n",
    "\n",
    "This dataset is publicly available for anyone to use under the following terms provided by the Dataset Source —https://data.cityofchicago.org — and is provided \"AS IS\" without any warranty, express or implied, from Google. Google disclaims all liability for any damages, direct or indirect, resulting from the use of the dataset."
   ]
  },
  {
   "cell_type": "code",
   "execution_count": 3,
   "metadata": {
    "_uuid": "fa62bb148022e5003d53e773b21150a17deaf922"
   },
   "outputs": [
    {
     "name": "stdout",
     "output_type": "stream",
     "text": [
      "Using Kaggle's public dataset BigQuery integration.\n"
     ]
    }
   ],
   "source": [
    "# creating an instance of the database that you can send SQL queries to later and get data back\n",
    "chicago_taxi = bq_helper.BigQueryHelper(active_project=\"bigquery-public-data\",\n",
    "                                   dataset_name=\"chicago_taxi_trips\")"
   ]
  },
  {
   "cell_type": "code",
   "execution_count": 4,
   "metadata": {
    "_uuid": "f98bf15865ee7e2b6026f0ed86724bad77b1d1ea"
   },
   "outputs": [
    {
     "data": {
      "text/plain": [
       "['taxi_trips']"
      ]
     },
     "execution_count": 4,
     "metadata": {},
     "output_type": "execute_result"
    }
   ],
   "source": [
    "# only one table in this \"database\"\n",
    "chicago_taxi.list_tables()"
   ]
  },
  {
   "cell_type": "code",
   "execution_count": 5,
   "metadata": {
    "_uuid": "0ad5c45012a370e5b9300ed8a71ec48ddf8772f5"
   },
   "outputs": [
    {
     "data": {
      "text/html": [
       "<div>\n",
       "<style scoped>\n",
       "    .dataframe tbody tr th:only-of-type {\n",
       "        vertical-align: middle;\n",
       "    }\n",
       "\n",
       "    .dataframe tbody tr th {\n",
       "        vertical-align: top;\n",
       "    }\n",
       "\n",
       "    .dataframe thead th {\n",
       "        text-align: right;\n",
       "    }\n",
       "</style>\n",
       "<table border=\"1\" class=\"dataframe\">\n",
       "  <thead>\n",
       "    <tr style=\"text-align: right;\">\n",
       "      <th></th>\n",
       "      <th>unique_key</th>\n",
       "      <th>taxi_id</th>\n",
       "      <th>trip_start_timestamp</th>\n",
       "      <th>trip_end_timestamp</th>\n",
       "      <th>trip_seconds</th>\n",
       "      <th>trip_miles</th>\n",
       "      <th>pickup_census_tract</th>\n",
       "      <th>dropoff_census_tract</th>\n",
       "      <th>pickup_community_area</th>\n",
       "      <th>dropoff_community_area</th>\n",
       "      <th>fare</th>\n",
       "      <th>tips</th>\n",
       "      <th>tolls</th>\n",
       "      <th>extras</th>\n",
       "      <th>trip_total</th>\n",
       "      <th>payment_type</th>\n",
       "      <th>company</th>\n",
       "      <th>pickup_latitude</th>\n",
       "      <th>pickup_longitude</th>\n",
       "      <th>pickup_location</th>\n",
       "      <th>dropoff_latitude</th>\n",
       "      <th>dropoff_longitude</th>\n",
       "      <th>dropoff_location</th>\n",
       "    </tr>\n",
       "  </thead>\n",
       "  <tbody>\n",
       "    <tr>\n",
       "      <th>0</th>\n",
       "      <td>b1695bee74d250a2d105ec5fa662595b851d4a33</td>\n",
       "      <td>0ed0aa5bd95971653ff5ff7a2f89637f19f083644e5358...</td>\n",
       "      <td>2014-04-28 07:30:00+00:00</td>\n",
       "      <td>2014-04-28 07:30:00+00:00</td>\n",
       "      <td>0</td>\n",
       "      <td>0.0</td>\n",
       "      <td>None</td>\n",
       "      <td>None</td>\n",
       "      <td>None</td>\n",
       "      <td>None</td>\n",
       "      <td>725.0</td>\n",
       "      <td>0.0</td>\n",
       "      <td>0.0</td>\n",
       "      <td>0.0</td>\n",
       "      <td>725.0</td>\n",
       "      <td>Cash</td>\n",
       "      <td>Chicago Elite Cab Corp. (Chicago Carriag</td>\n",
       "      <td>None</td>\n",
       "      <td>None</td>\n",
       "      <td>None</td>\n",
       "      <td>None</td>\n",
       "      <td>None</td>\n",
       "      <td>None</td>\n",
       "    </tr>\n",
       "    <tr>\n",
       "      <th>1</th>\n",
       "      <td>b18cc4fc0e9691c6859d467dba90f506e746c65d</td>\n",
       "      <td>0c2af70fa4647cb1d6f0e8fcb08ad4359c5977513d2d69...</td>\n",
       "      <td>2015-07-13 06:15:00+00:00</td>\n",
       "      <td>2015-07-13 06:15:00+00:00</td>\n",
       "      <td>0</td>\n",
       "      <td>0.0</td>\n",
       "      <td>None</td>\n",
       "      <td>None</td>\n",
       "      <td>None</td>\n",
       "      <td>None</td>\n",
       "      <td>545.0</td>\n",
       "      <td>0.0</td>\n",
       "      <td>0.0</td>\n",
       "      <td>0.0</td>\n",
       "      <td>545.0</td>\n",
       "      <td>Cash</td>\n",
       "      <td>Chicago Elite Cab Corp. (Chicago Carriag</td>\n",
       "      <td>None</td>\n",
       "      <td>None</td>\n",
       "      <td>None</td>\n",
       "      <td>None</td>\n",
       "      <td>None</td>\n",
       "      <td>None</td>\n",
       "    </tr>\n",
       "    <tr>\n",
       "      <th>2</th>\n",
       "      <td>b195e5f2d975847c47985ad50dc9aa520c8625e1</td>\n",
       "      <td>74c65e298adb79ea78cdb8d051248b8c259995872a8907...</td>\n",
       "      <td>2014-03-15 08:30:00+00:00</td>\n",
       "      <td>2014-03-15 08:30:00+00:00</td>\n",
       "      <td>0</td>\n",
       "      <td>0.0</td>\n",
       "      <td>None</td>\n",
       "      <td>None</td>\n",
       "      <td>None</td>\n",
       "      <td>None</td>\n",
       "      <td>1325.0</td>\n",
       "      <td>0.0</td>\n",
       "      <td>0.0</td>\n",
       "      <td>0.0</td>\n",
       "      <td>1325.0</td>\n",
       "      <td>Cash</td>\n",
       "      <td>Chicago Elite Cab Corp. (Chicago Carriag</td>\n",
       "      <td>None</td>\n",
       "      <td>None</td>\n",
       "      <td>None</td>\n",
       "      <td>None</td>\n",
       "      <td>None</td>\n",
       "      <td>None</td>\n",
       "    </tr>\n",
       "  </tbody>\n",
       "</table>\n",
       "</div>"
      ],
      "text/plain": [
       "                                 unique_key       ...        dropoff_location\n",
       "0  b1695bee74d250a2d105ec5fa662595b851d4a33       ...                    None\n",
       "1  b18cc4fc0e9691c6859d467dba90f506e746c65d       ...                    None\n",
       "2  b195e5f2d975847c47985ad50dc9aa520c8625e1       ...                    None\n",
       "\n",
       "[3 rows x 23 columns]"
      ]
     },
     "execution_count": 5,
     "metadata": {},
     "output_type": "execute_result"
    }
   ],
   "source": [
    "# seeing some data from this table\n",
    "chicago_taxi.head(\"taxi_trips\", num_rows=3)"
   ]
  },
  {
   "cell_type": "code",
   "execution_count": 6,
   "metadata": {
    "_uuid": "0ac5e28a5693cbf51cf49e19d0baf11b4e9c2033"
   },
   "outputs": [
    {
     "data": {
      "text/html": [
       "<div>\n",
       "<style scoped>\n",
       "    .dataframe tbody tr th:only-of-type {\n",
       "        vertical-align: middle;\n",
       "    }\n",
       "\n",
       "    .dataframe tbody tr th {\n",
       "        vertical-align: top;\n",
       "    }\n",
       "\n",
       "    .dataframe thead th {\n",
       "        text-align: right;\n",
       "    }\n",
       "</style>\n",
       "<table border=\"1\" class=\"dataframe\">\n",
       "  <thead>\n",
       "    <tr style=\"text-align: right;\">\n",
       "      <th></th>\n",
       "      <th>name</th>\n",
       "      <th>type</th>\n",
       "      <th>mode</th>\n",
       "      <th>description</th>\n",
       "    </tr>\n",
       "  </thead>\n",
       "  <tbody>\n",
       "    <tr>\n",
       "      <th>0</th>\n",
       "      <td>unique_key</td>\n",
       "      <td>STRING</td>\n",
       "      <td>REQUIRED</td>\n",
       "      <td>Unique identifier for the trip.</td>\n",
       "    </tr>\n",
       "    <tr>\n",
       "      <th>1</th>\n",
       "      <td>taxi_id</td>\n",
       "      <td>STRING</td>\n",
       "      <td>REQUIRED</td>\n",
       "      <td>A unique identifier for the taxi.</td>\n",
       "    </tr>\n",
       "    <tr>\n",
       "      <th>2</th>\n",
       "      <td>trip_start_timestamp</td>\n",
       "      <td>TIMESTAMP</td>\n",
       "      <td>NULLABLE</td>\n",
       "      <td>When the trip started, rounded to the nearest ...</td>\n",
       "    </tr>\n",
       "    <tr>\n",
       "      <th>3</th>\n",
       "      <td>trip_end_timestamp</td>\n",
       "      <td>TIMESTAMP</td>\n",
       "      <td>NULLABLE</td>\n",
       "      <td>When the trip ended, rounded to the nearest 15...</td>\n",
       "    </tr>\n",
       "    <tr>\n",
       "      <th>4</th>\n",
       "      <td>trip_seconds</td>\n",
       "      <td>INTEGER</td>\n",
       "      <td>NULLABLE</td>\n",
       "      <td>Time of the trip in seconds.</td>\n",
       "    </tr>\n",
       "    <tr>\n",
       "      <th>5</th>\n",
       "      <td>trip_miles</td>\n",
       "      <td>FLOAT</td>\n",
       "      <td>NULLABLE</td>\n",
       "      <td>Distance of the trip in miles.</td>\n",
       "    </tr>\n",
       "    <tr>\n",
       "      <th>6</th>\n",
       "      <td>pickup_census_tract</td>\n",
       "      <td>INTEGER</td>\n",
       "      <td>NULLABLE</td>\n",
       "      <td>The Census Tract where the trip began. For pri...</td>\n",
       "    </tr>\n",
       "    <tr>\n",
       "      <th>7</th>\n",
       "      <td>dropoff_census_tract</td>\n",
       "      <td>INTEGER</td>\n",
       "      <td>NULLABLE</td>\n",
       "      <td>The Census Tract where the trip ended. For pri...</td>\n",
       "    </tr>\n",
       "    <tr>\n",
       "      <th>8</th>\n",
       "      <td>pickup_community_area</td>\n",
       "      <td>INTEGER</td>\n",
       "      <td>NULLABLE</td>\n",
       "      <td>The Community Area where the trip began.</td>\n",
       "    </tr>\n",
       "    <tr>\n",
       "      <th>9</th>\n",
       "      <td>dropoff_community_area</td>\n",
       "      <td>INTEGER</td>\n",
       "      <td>NULLABLE</td>\n",
       "      <td>The Community Area where the trip ended.</td>\n",
       "    </tr>\n",
       "    <tr>\n",
       "      <th>10</th>\n",
       "      <td>fare</td>\n",
       "      <td>FLOAT</td>\n",
       "      <td>NULLABLE</td>\n",
       "      <td>The fare for the trip.</td>\n",
       "    </tr>\n",
       "    <tr>\n",
       "      <th>11</th>\n",
       "      <td>tips</td>\n",
       "      <td>FLOAT</td>\n",
       "      <td>NULLABLE</td>\n",
       "      <td>The tip for the trip. Cash tips generally will...</td>\n",
       "    </tr>\n",
       "    <tr>\n",
       "      <th>12</th>\n",
       "      <td>tolls</td>\n",
       "      <td>FLOAT</td>\n",
       "      <td>NULLABLE</td>\n",
       "      <td>The tolls for the trip.</td>\n",
       "    </tr>\n",
       "    <tr>\n",
       "      <th>13</th>\n",
       "      <td>extras</td>\n",
       "      <td>FLOAT</td>\n",
       "      <td>NULLABLE</td>\n",
       "      <td>Extra charges for the trip.</td>\n",
       "    </tr>\n",
       "    <tr>\n",
       "      <th>14</th>\n",
       "      <td>trip_total</td>\n",
       "      <td>FLOAT</td>\n",
       "      <td>NULLABLE</td>\n",
       "      <td>Total cost of the trip, the total of the fare,...</td>\n",
       "    </tr>\n",
       "    <tr>\n",
       "      <th>15</th>\n",
       "      <td>payment_type</td>\n",
       "      <td>STRING</td>\n",
       "      <td>NULLABLE</td>\n",
       "      <td>Type of payment for the trip.</td>\n",
       "    </tr>\n",
       "    <tr>\n",
       "      <th>16</th>\n",
       "      <td>company</td>\n",
       "      <td>STRING</td>\n",
       "      <td>NULLABLE</td>\n",
       "      <td>The taxi company.</td>\n",
       "    </tr>\n",
       "    <tr>\n",
       "      <th>17</th>\n",
       "      <td>pickup_latitude</td>\n",
       "      <td>FLOAT</td>\n",
       "      <td>NULLABLE</td>\n",
       "      <td>The latitude of the center of the pickup censu...</td>\n",
       "    </tr>\n",
       "    <tr>\n",
       "      <th>18</th>\n",
       "      <td>pickup_longitude</td>\n",
       "      <td>FLOAT</td>\n",
       "      <td>NULLABLE</td>\n",
       "      <td>The longitude of the center of the pickup cens...</td>\n",
       "    </tr>\n",
       "    <tr>\n",
       "      <th>19</th>\n",
       "      <td>pickup_location</td>\n",
       "      <td>STRING</td>\n",
       "      <td>NULLABLE</td>\n",
       "      <td>The location of the center of the pickup censu...</td>\n",
       "    </tr>\n",
       "    <tr>\n",
       "      <th>20</th>\n",
       "      <td>dropoff_latitude</td>\n",
       "      <td>FLOAT</td>\n",
       "      <td>NULLABLE</td>\n",
       "      <td>The latitude of the center of the dropoff cens...</td>\n",
       "    </tr>\n",
       "    <tr>\n",
       "      <th>21</th>\n",
       "      <td>dropoff_longitude</td>\n",
       "      <td>FLOAT</td>\n",
       "      <td>NULLABLE</td>\n",
       "      <td>The longitude of the center of the dropoff cen...</td>\n",
       "    </tr>\n",
       "    <tr>\n",
       "      <th>22</th>\n",
       "      <td>dropoff_location</td>\n",
       "      <td>STRING</td>\n",
       "      <td>NULLABLE</td>\n",
       "      <td>The location of the center of the dropoff cens...</td>\n",
       "    </tr>\n",
       "  </tbody>\n",
       "</table>\n",
       "</div>"
      ],
      "text/plain": [
       "                      name                        ...                                                                description\n",
       "0               unique_key                        ...                                            Unique identifier for the trip.\n",
       "1                  taxi_id                        ...                                          A unique identifier for the taxi.\n",
       "2     trip_start_timestamp                        ...                          When the trip started, rounded to the nearest ...\n",
       "3       trip_end_timestamp                        ...                          When the trip ended, rounded to the nearest 15...\n",
       "4             trip_seconds                        ...                                               Time of the trip in seconds.\n",
       "5               trip_miles                        ...                                             Distance of the trip in miles.\n",
       "6      pickup_census_tract                        ...                          The Census Tract where the trip began. For pri...\n",
       "7     dropoff_census_tract                        ...                          The Census Tract where the trip ended. For pri...\n",
       "8    pickup_community_area                        ...                                   The Community Area where the trip began.\n",
       "9   dropoff_community_area                        ...                                   The Community Area where the trip ended.\n",
       "10                    fare                        ...                                                     The fare for the trip.\n",
       "11                    tips                        ...                          The tip for the trip. Cash tips generally will...\n",
       "12                   tolls                        ...                                                    The tolls for the trip.\n",
       "13                  extras                        ...                                                Extra charges for the trip.\n",
       "14              trip_total                        ...                          Total cost of the trip, the total of the fare,...\n",
       "15            payment_type                        ...                                              Type of payment for the trip.\n",
       "16                 company                        ...                                                          The taxi company.\n",
       "17         pickup_latitude                        ...                          The latitude of the center of the pickup censu...\n",
       "18        pickup_longitude                        ...                          The longitude of the center of the pickup cens...\n",
       "19         pickup_location                        ...                          The location of the center of the pickup censu...\n",
       "20        dropoff_latitude                        ...                          The latitude of the center of the dropoff cens...\n",
       "21       dropoff_longitude                        ...                          The longitude of the center of the dropoff cen...\n",
       "22        dropoff_location                        ...                          The location of the center of the dropoff cens...\n",
       "\n",
       "[23 rows x 4 columns]"
      ]
     },
     "execution_count": 6,
     "metadata": {},
     "output_type": "execute_result"
    }
   ],
   "source": [
    "# seeing the table schema of this to see more details of our table\n",
    "chicago_taxi.table_schema(\"taxi_trips\")"
   ]
  },
  {
   "cell_type": "code",
   "execution_count": 7,
   "metadata": {
    "_uuid": "196beb1ad98ed5ee2c467cd036b3aadfb740fe5a"
   },
   "outputs": [
    {
     "data": {
      "text/plain": [
       "'Number of rows in this dataset:'"
      ]
     },
     "execution_count": 7,
     "metadata": {},
     "output_type": "execute_result"
    },
    {
     "name": "stdout",
     "output_type": "stream",
     "text": [
      "   Number_of_Rows\n",
      "0       112860054\n"
     ]
    }
   ],
   "source": [
    "# let's see how many rows we have:\n",
    "query = \"\"\"SELECT\n",
    "  COUNT(*) as Number_of_Rows\n",
    "FROM\n",
    "  `bigquery-public-data.chicago_taxi_trips.taxi_trips`\n",
    "        \"\"\"\n",
    "response = chicago_taxi.query_to_pandas_safe(query, max_gb_scanned=10)\n",
    "\"Number of rows in this dataset:\"\n",
    "print(response)"
   ]
  },
  {
   "cell_type": "markdown",
   "metadata": {
    "_uuid": "2276bf23fbe61fd14f7f6b76d760e8b486f90aba"
   },
   "source": [
    "So in this dataset, there are over 112 million unique Chicago taxi rides stored in this Google BigQuery data set.\n",
    "\n",
    "## What is the average yearly salary of a taxi driver in Chicago, USA?"
   ]
  },
  {
   "cell_type": "code",
   "execution_count": 8,
   "metadata": {
    "_uuid": "29641352b4010beb03be1d873229aec5e01058a5",
    "scrolled": true
   },
   "outputs": [
    {
     "data": {
      "text/html": [
       "<div>\n",
       "<style scoped>\n",
       "    .dataframe tbody tr th:only-of-type {\n",
       "        vertical-align: middle;\n",
       "    }\n",
       "\n",
       "    .dataframe tbody tr th {\n",
       "        vertical-align: top;\n",
       "    }\n",
       "\n",
       "    .dataframe thead th {\n",
       "        text-align: right;\n",
       "    }\n",
       "</style>\n",
       "<table border=\"1\" class=\"dataframe\">\n",
       "  <thead>\n",
       "    <tr style=\"text-align: right;\">\n",
       "      <th></th>\n",
       "      <th>taxi_id</th>\n",
       "      <th>yearly_pay</th>\n",
       "      <th>year</th>\n",
       "    </tr>\n",
       "  </thead>\n",
       "  <tbody>\n",
       "    <tr>\n",
       "      <th>0</th>\n",
       "      <td>03ef17c09196e048e7bacf1b64cf1cbcc8fa13f7debb3f...</td>\n",
       "      <td>3871646.0</td>\n",
       "      <td>2013</td>\n",
       "    </tr>\n",
       "    <tr>\n",
       "      <th>1</th>\n",
       "      <td>a9c03c904e899fd10c47c237b5352239f5ce6e181227e7...</td>\n",
       "      <td>290200.0</td>\n",
       "      <td>2013</td>\n",
       "    </tr>\n",
       "    <tr>\n",
       "      <th>2</th>\n",
       "      <td>c57567148b3d81699da9148b8c42153d6eb5ebeabda9c0...</td>\n",
       "      <td>2653054.0</td>\n",
       "      <td>2013</td>\n",
       "    </tr>\n",
       "    <tr>\n",
       "      <th>3</th>\n",
       "      <td>753fbb094e92604e48c3de4df5ae5bbf84015e29abc519...</td>\n",
       "      <td>3724746.0</td>\n",
       "      <td>2013</td>\n",
       "    </tr>\n",
       "    <tr>\n",
       "      <th>4</th>\n",
       "      <td>00aeef49089b36ed668920fac1119a26fb25d1b48102a4...</td>\n",
       "      <td>5634727.0</td>\n",
       "      <td>2013</td>\n",
       "    </tr>\n",
       "  </tbody>\n",
       "</table>\n",
       "</div>"
      ],
      "text/plain": [
       "                                             taxi_id  yearly_pay  year\n",
       "0  03ef17c09196e048e7bacf1b64cf1cbcc8fa13f7debb3f...   3871646.0  2013\n",
       "1  a9c03c904e899fd10c47c237b5352239f5ce6e181227e7...    290200.0  2013\n",
       "2  c57567148b3d81699da9148b8c42153d6eb5ebeabda9c0...   2653054.0  2013\n",
       "3  753fbb094e92604e48c3de4df5ae5bbf84015e29abc519...   3724746.0  2013\n",
       "4  00aeef49089b36ed668920fac1119a26fb25d1b48102a4...   5634727.0  2013"
      ]
     },
     "execution_count": 8,
     "metadata": {},
     "output_type": "execute_result"
    }
   ],
   "source": [
    "query1 = \"\"\"SELECT taxi_id,\n",
    "    SUM(fare) as yearly_pay,\n",
    "    EXTRACT(YEAR FROM trip_start_timestamp) AS year\n",
    "FROM `bigquery-public-data.chicago_taxi_trips.taxi_trips`\n",
    "GROUP BY year, taxi_id;\n",
    "\"\"\"\n",
    "\n",
    "response1 = chicago_taxi.query_to_pandas_safe(query1, max_gb_scanned=16)\n",
    "response1.head()"
   ]
  },
  {
   "cell_type": "code",
   "execution_count": 9,
   "metadata": {
    "_uuid": "64501dbd71c2e00709db2a6e88dd7100f21dc4e3"
   },
   "outputs": [
    {
     "data": {
      "text/html": [
       "<div>\n",
       "<style scoped>\n",
       "    .dataframe tbody tr th:only-of-type {\n",
       "        vertical-align: middle;\n",
       "    }\n",
       "\n",
       "    .dataframe tbody tr th {\n",
       "        vertical-align: top;\n",
       "    }\n",
       "\n",
       "    .dataframe thead th {\n",
       "        text-align: right;\n",
       "    }\n",
       "</style>\n",
       "<table border=\"1\" class=\"dataframe\">\n",
       "  <thead>\n",
       "    <tr style=\"text-align: right;\">\n",
       "      <th></th>\n",
       "      <th>taxi_id</th>\n",
       "      <th>yearly_pay</th>\n",
       "      <th>year</th>\n",
       "    </tr>\n",
       "  </thead>\n",
       "  <tbody>\n",
       "    <tr>\n",
       "      <th>0</th>\n",
       "      <td>03ef17c09196e048e7bacf1b64cf1cbcc8fa13f7debb3f...</td>\n",
       "      <td>38716.46</td>\n",
       "      <td>2013</td>\n",
       "    </tr>\n",
       "    <tr>\n",
       "      <th>1</th>\n",
       "      <td>a9c03c904e899fd10c47c237b5352239f5ce6e181227e7...</td>\n",
       "      <td>2902.00</td>\n",
       "      <td>2013</td>\n",
       "    </tr>\n",
       "    <tr>\n",
       "      <th>2</th>\n",
       "      <td>c57567148b3d81699da9148b8c42153d6eb5ebeabda9c0...</td>\n",
       "      <td>26530.54</td>\n",
       "      <td>2013</td>\n",
       "    </tr>\n",
       "    <tr>\n",
       "      <th>3</th>\n",
       "      <td>753fbb094e92604e48c3de4df5ae5bbf84015e29abc519...</td>\n",
       "      <td>37247.46</td>\n",
       "      <td>2013</td>\n",
       "    </tr>\n",
       "    <tr>\n",
       "      <th>4</th>\n",
       "      <td>00aeef49089b36ed668920fac1119a26fb25d1b48102a4...</td>\n",
       "      <td>56347.27</td>\n",
       "      <td>2013</td>\n",
       "    </tr>\n",
       "  </tbody>\n",
       "</table>\n",
       "</div>"
      ],
      "text/plain": [
       "                                             taxi_id  yearly_pay  year\n",
       "0  03ef17c09196e048e7bacf1b64cf1cbcc8fa13f7debb3f...    38716.46  2013\n",
       "1  a9c03c904e899fd10c47c237b5352239f5ce6e181227e7...     2902.00  2013\n",
       "2  c57567148b3d81699da9148b8c42153d6eb5ebeabda9c0...    26530.54  2013\n",
       "3  753fbb094e92604e48c3de4df5ae5bbf84015e29abc519...    37247.46  2013\n",
       "4  00aeef49089b36ed668920fac1119a26fb25d1b48102a4...    56347.27  2013"
      ]
     },
     "execution_count": 9,
     "metadata": {},
     "output_type": "execute_result"
    }
   ],
   "source": [
    "# turning the yearly_pay from cents to dollars and cents\n",
    "response1.yearly_pay = round(response1.yearly_pay / 100, 2)\n",
    "response1.head()"
   ]
  },
  {
   "cell_type": "code",
   "execution_count": 10,
   "metadata": {
    "_uuid": "6823b1403201742a82a624d2aecb449a1b32c4c5"
   },
   "outputs": [
    {
     "data": {
      "text/plain": [
       "'Average Yearly Pay with outliers:'"
      ]
     },
     "execution_count": 10,
     "metadata": {},
     "output_type": "execute_result"
    },
    {
     "data": {
      "text/plain": [
       "year\n",
       "2013    60236.792167\n",
       "2014    50256.675658\n",
       "2015    46204.200123\n",
       "2016    36013.320816\n",
       "2017    20649.437492\n",
       "Name: yearly_pay, dtype: float64"
      ]
     },
     "execution_count": 10,
     "metadata": {},
     "output_type": "execute_result"
    }
   ],
   "source": [
    "# average yearly pay:\n",
    "\"Average Yearly Pay with outliers:\"\n",
    "response1.groupby('year').yearly_pay.mean()"
   ]
  },
  {
   "cell_type": "code",
   "execution_count": 11,
   "metadata": {
    "_uuid": "a1b38d3eb939b3a45905c76bf9d76e44bfbf5935"
   },
   "outputs": [
    {
     "data": {
      "text/plain": [
       "'Number of Taxi Drivers Per Year in our Dataset:'"
      ]
     },
     "execution_count": 11,
     "metadata": {},
     "output_type": "execute_result"
    },
    {
     "data": {
      "text/plain": [
       "2013    5557\n",
       "2014    7582\n",
       "2015    7552\n",
       "2016    7667\n",
       "2017    5032\n",
       "Name: year, dtype: int64"
      ]
     },
     "execution_count": 11,
     "metadata": {},
     "output_type": "execute_result"
    }
   ],
   "source": [
    "# Searching for outliers that might skew our data:\n",
    "\"Number of Taxi Drivers Per Year in our Dataset:\"\n",
    "response1.year.value_counts(dropna=False).sort_index()"
   ]
  },
  {
   "cell_type": "markdown",
   "metadata": {
    "_uuid": "02fd235d12399f50cd39bb135e72a0fe36e1f936"
   },
   "source": [
    "It seems that 2013 and 2017 datasets cannot be trusted because first of all, the dates aren't complete - and the sample sizes are also smaller. Let's drop the rows that contain that date."
   ]
  },
  {
   "cell_type": "code",
   "execution_count": 12,
   "metadata": {
    "_uuid": "79d6215ab84341f5e4bf11f91d372d33e4f40b9d"
   },
   "outputs": [],
   "source": [
    "response1 = response1[response1.year.between(2014, 2016)]"
   ]
  },
  {
   "cell_type": "code",
   "execution_count": 13,
   "metadata": {
    "_uuid": "449370ea808d90556320cada6cd994210139c346"
   },
   "outputs": [
    {
     "data": {
      "text/plain": [
       "'Number of Taxi Drivers Working Per Year'"
      ]
     },
     "execution_count": 13,
     "metadata": {},
     "output_type": "execute_result"
    },
    {
     "data": {
      "text/plain": [
       "2014    7582\n",
       "2015    7552\n",
       "2016    7667\n",
       "Name: year, dtype: int64"
      ]
     },
     "execution_count": 13,
     "metadata": {},
     "output_type": "execute_result"
    }
   ],
   "source": [
    "'Number of Taxi Drivers Working Per Year'\n",
    "response1.year.value_counts(dropna=False).sort_index()"
   ]
  },
  {
   "cell_type": "code",
   "execution_count": 14,
   "metadata": {
    "_uuid": "1f01a9de8ab318333cfaed2703ffdeb8a28c4148"
   },
   "outputs": [
    {
     "data": {
      "text/plain": [
       "<matplotlib.axes._subplots.AxesSubplot at 0x7f83c1503dd8>"
      ]
     },
     "execution_count": 14,
     "metadata": {},
     "output_type": "execute_result"
    },
    {
     "data": {
      "image/png": "[encoded data removed]",
      "text/plain": [
       "<Figure size 936x576 with 1 Axes>"
      ]
     },
     "metadata": {},
     "output_type": "display_data"
    }
   ],
   "source": [
    "# searching for more outliers - let's look at a boxplot\n",
    "sns.boxplot(data = response1,x=\"year\",y=\"yearly_pay\")"
   ]
  },
  {
   "cell_type": "markdown",
   "metadata": {
    "_uuid": "f5c704c4872a31e21ab11045db35ba2c900e669f"
   },
   "source": [
    "There are some incredible outliers that are skewing this data! There was a person making 7 million dollars in 2014, and a person making 8 million in 2015! Let's take a look at this data again without the outliers and see:"
   ]
  },
  {
   "cell_type": "code",
   "execution_count": 15,
   "metadata": {
    "_uuid": "49c7178dcaa7c340fee1decd2b4d8e1659327e1c"
   },
   "outputs": [
    {
     "data": {
      "text/plain": [
       "'Average Yearly Pay without Outliers:'"
      ]
     },
     "execution_count": 15,
     "metadata": {},
     "output_type": "execute_result"
    },
    {
     "data": {
      "text/plain": [
       "year\n",
       "2014    49240.952065\n",
       "2015    45106.903085\n",
       "2016    35913.245401\n",
       "Name: yearly_pay, dtype: float64"
      ]
     },
     "execution_count": 15,
     "metadata": {},
     "output_type": "execute_result"
    },
    {
     "data": {
      "text/plain": [
       "<matplotlib.axes._subplots.AxesSubplot at 0x7f83c3fc4588>"
      ]
     },
     "execution_count": 15,
     "metadata": {},
     "output_type": "execute_result"
    },
    {
     "data": {
      "image/png": "[encoded data removed]",
      "text/plain": [
       "<Figure size 936x576 with 1 Axes>"
      ]
     },
     "metadata": {},
     "output_type": "display_data"
    }
   ],
   "source": [
    "# looking at the numbers falling within 0 and 175,000 dollars:\n",
    "\"Average Yearly Pay without Outliers:\"\n",
    "response1[response1.yearly_pay.between(0, 175000)].groupby('year').yearly_pay.mean()\n",
    "response1[response1.yearly_pay.between(0, 175000)].groupby('year').yearly_pay.mean().plot('bar')"
   ]
  },
  {
   "cell_type": "code",
   "execution_count": 16,
   "metadata": {
    "_uuid": "0afdf916d16058f54403501230d5830b66a80f3b"
   },
   "outputs": [
    {
     "data": {
      "text/plain": [
       "Text(0.5,1,'Average Yearly Pay - Taxi Drivers in Chicago')"
      ]
     },
     "execution_count": 16,
     "metadata": {},
     "output_type": "execute_result"
    },
    {
     "data": {
      "image/png": "[encoded data removed]",
      "text/plain": [
       "<Figure size 936x576 with 1 Axes>"
      ]
     },
     "metadata": {},
     "output_type": "display_data"
    }
   ],
   "source": [
    "sns.boxplot(data = response1,x=\"year\",y=\"yearly_pay\", showfliers=False).set_title('Average Yearly Pay - Taxi Drivers in Chicago')"
   ]
  },
  {
   "cell_type": "markdown",
   "metadata": {
    "_uuid": "c25659c47bfd4345926257a20277d2fe3cd4a0d7"
   },
   "source": [
    "# Why is 2016 average salary so much lower - even though we have the same number of taxi drivers?"
   ]
  },
  {
   "cell_type": "code",
   "execution_count": 17,
   "metadata": {
    "_uuid": "46d311e51837eae3a64e2cd54dd9fcb4f55c07b2"
   },
   "outputs": [
    {
     "name": "stdout",
     "output_type": "stream",
     "text": [
      "   number_of_rides_2015\n",
      "0              27400744\n"
     ]
    }
   ],
   "source": [
    "# How many rides were there in 2015?\n",
    "query = \"\"\"SELECT COUNT(*) as number_of_rides_2015\n",
    "FROM `bigquery-public-data.chicago_taxi_trips.taxi_trips`\n",
    "WHERE EXTRACT(YEAR FROM trip_start_timestamp) = 2015;\n",
    "\"\"\"\n",
    "\n",
    "response = chicago_taxi.query_to_pandas_safe(query, max_gb_scanned=22)\n",
    "print(response)"
   ]
  },
  {
   "cell_type": "code",
   "execution_count": 18,
   "metadata": {
    "_uuid": "37fb05e6d361451003a36778bb0b9cf8edcdb558"
   },
   "outputs": [
    {
     "name": "stdout",
     "output_type": "stream",
     "text": [
      "   number_of_rides_2016\n",
      "0              19878276\n"
     ]
    }
   ],
   "source": [
    "# How many rides were there in 2016?\n",
    "query = \"\"\"SELECT COUNT(*) as number_of_rides_2016\n",
    "FROM `bigquery-public-data.chicago_taxi_trips.taxi_trips`\n",
    "WHERE EXTRACT(YEAR FROM trip_start_timestamp) = 2016;\n",
    "\"\"\"\n",
    "\n",
    "response = chicago_taxi.query_to_pandas_safe(query, max_gb_scanned=22)\n",
    "print(response)"
   ]
  },
  {
   "cell_type": "markdown",
   "metadata": {
    "_uuid": "a0fb92c94f069691849edc680863480106ec2905"
   },
   "source": [
    "As you can see, that is a large reasoning why the average salary in 2016 was so much lower, because there were just a lot less people riding taxis. Let's break it  down by month from 2015 all the way to 2017 and see if we can tell if the trend is continuing into 2017.\n",
    "\n",
    "# What does the trend look like for the number of taxi rides over time?"
   ]
  },
  {
   "cell_type": "code",
   "execution_count": 19,
   "metadata": {
    "_uuid": "e623869b238d75921a3c5ef5971694a3adcb306d"
   },
   "outputs": [
    {
     "name": "stdout",
     "output_type": "stream",
     "text": [
      "     number_of_rides        date\n",
      "0             231336  2012-12-30\n",
      "1             325667  2013-01-06\n",
      "2             366214  2013-01-13\n",
      "3             407147  2013-01-20\n",
      "4             395155  2013-01-27\n",
      "5             417133  2013-02-03\n",
      "6             444215  2013-02-10\n",
      "7             488276  2013-02-17\n",
      "8             493521  2013-02-24\n",
      "9             496742  2013-03-03\n",
      "10            578932  2013-03-10\n",
      "11            541598  2013-03-17\n",
      "12            419372  2013-03-24\n",
      "13            452977  2013-03-31\n",
      "14            503128  2013-04-07\n",
      "15            520122  2013-04-14\n",
      "16            508375  2013-04-21\n",
      "17            493533  2013-04-28\n",
      "18            497805  2013-05-05\n",
      "19            510734  2013-05-12\n",
      "20            531185  2013-05-19\n",
      "21            502834  2013-05-26\n",
      "22            552077  2013-06-02\n",
      "23            561233  2013-06-09\n",
      "24            540067  2013-06-16\n",
      "25            558554  2013-06-23\n",
      "26            470219  2013-06-30\n",
      "27            523040  2013-07-07\n",
      "28            578042  2013-07-14\n",
      "29            540184  2013-07-21\n",
      "..               ...         ...\n",
      "210           251502  2017-01-08\n",
      "211           237429  2017-01-15\n",
      "212           240752  2017-01-22\n",
      "213           241226  2017-01-29\n",
      "214           250125  2017-02-05\n",
      "215           249725  2017-02-12\n",
      "216           267272  2017-02-19\n",
      "217           267455  2017-02-26\n",
      "218           288494  2017-03-05\n",
      "219           300904  2017-03-12\n",
      "220           290963  2017-03-19\n",
      "221           281524  2017-03-26\n",
      "222           305043  2017-04-02\n",
      "223           264301  2017-04-09\n",
      "224           271735  2017-04-16\n",
      "225           282690  2017-04-23\n",
      "226           296561  2017-04-30\n",
      "227           262321  2017-05-07\n",
      "228           254233  2017-05-14\n",
      "229           250183  2017-05-21\n",
      "230           219849  2017-05-28\n",
      "231           269421  2017-06-04\n",
      "232           264721  2017-06-11\n",
      "233           238282  2017-06-18\n",
      "234           227124  2017-06-25\n",
      "235           179244  2017-07-02\n",
      "236           224730  2017-07-09\n",
      "237           226885  2017-07-16\n",
      "238           217988  2017-07-23\n",
      "239            47317  2017-07-30\n",
      "\n",
      "[240 rows x 2 columns]\n"
     ]
    }
   ],
   "source": [
    "# What does the data look like per month?\n",
    "query = \"\"\"SELECT COUNT(*) as number_of_rides,\n",
    "    DATE_TRUNC(DATE(trip_start_timestamp), WEEK) as date\n",
    "FROM `bigquery-public-data.chicago_taxi_trips.taxi_trips`\n",
    "GROUP BY date\n",
    "ORDER BY date ASC;\n",
    "\"\"\"\n",
    "\n",
    "response = chicago_taxi.query_to_pandas_safe(query, max_gb_scanned=22)\n",
    "print(response)"
   ]
  },
  {
   "cell_type": "code",
   "execution_count": 20,
   "metadata": {
    "_uuid": "8a2c29f71e47c5f226044daec109cdc756c77296"
   },
   "outputs": [
    {
     "data": {
      "text/plain": [
       "[Text(0.5,1,'Number of Chicago Taxi Rides per Week 2013-2017')]"
      ]
     },
     "execution_count": 20,
     "metadata": {},
     "output_type": "execute_result"
    },
    {
     "data": {
      "image/png": "[encoded data removed]",
      "text/plain": [
       "<Figure size 936x576 with 1 Axes>"
      ]
     },
     "metadata": {},
     "output_type": "display_data"
    }
   ],
   "source": [
    "ax = sns.lineplot(x=\"date\", y=\"number_of_rides\", data=response)\n",
    "ax.set(title=\"Number of Chicago Taxi Rides per Week 2013-2017\")"
   ]
  },
  {
   "cell_type": "markdown",
   "metadata": {
    "_uuid": "be34bf40b77b8b156358b3632691ef756bfbaf2c"
   },
   "source": [
    "# What gives? \n",
    "\n",
    "The rise of car-sharing services: Uber and Lyft.\n",
    "\n",
    "![Uber!](data/Uber.jpg)"
   ]
  }
 ],
 "metadata": {
  "kernelspec": {
   "display_name": "Python 3",
   "language": "python",
   "name": "python3"
  },
  "language_info": {
   "codemirror_mode": {
    "name": "ipython",
    "version": 3
   },
   "file_extension": ".py",
   "mimetype": "text/x-python",
   "name": "python",
   "nbconvert_exporter": "python",
   "pygments_lexer": "ipython3",
   "version": "3.7.1"
  }
 },
 "nbformat": 4,
 "nbformat_minor": 1
}
